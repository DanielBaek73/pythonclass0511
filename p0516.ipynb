{
 "cells": [
  {
   "cell_type": "code",
   "execution_count": 1,
   "metadata": {},
   "outputs": [],
   "source": [
    "import requests                       #웹페이지 연결\n",
    "from bs4 import BeautifulSoup as bs   #가져온 페이지를 분석하기 용이하게 정제\n",
    "import pandas as pd  \n",
    "from datetime import datetime, timedelta, timezone\n"
   ]
  },
  {
   "cell_type": "code",
   "execution_count": 3,
   "metadata": {},
   "outputs": [],
   "source": [
    "html = requests.get('https://weather.naver.com/')\n",
    "soup = bs(html.text)\n",
    "# soup"
   ]
  },
  {
   "cell_type": "code",
   "execution_count": 13,
   "metadata": {},
   "outputs": [
    {
     "data": {
      "text/plain": [
       "[<span class=\"blind\">NAVER</span>,\n",
       " <span class=\"blind\">선택됨</span>,\n",
       " <span class=\"blind\">검색 펼치기</span>,\n",
       " <span class=\"blind\">검색</span>,\n",
       " <span class=\"blind\">검색 취소</span>,\n",
       " <span class=\"blind\">이전 보기</span>,\n",
       " <span class=\"blind\">다음 보기</span>,\n",
       " <span class=\"blind\">날씨 제공사 설정</span>,\n",
       " <span class=\"blind\">현위치</span>,\n",
       " <span class=\"blind\">내위치 찾기</span>,\n",
       " <span class=\"blind\">현재 온도</span>,\n",
       " <span class=\"blind\">높아요</span>,\n",
       " <span class=\"blind\">이전 보기</span>,\n",
       " <span class=\"blind\">다음 보기</span>,\n",
       " <span class=\"blind\">시간별 날씨 정보를 제공하는 표</span>,\n",
       " <span class=\"blind\">구름많음</span>,\n",
       " <span class=\"blind\">강수확률</span>,\n",
       " <span class=\"blind\">맑음</span>,\n",
       " <span class=\"blind\">강수확률</span>,\n",
       " <span class=\"blind\">맑음</span>,\n",
       " <span class=\"blind\">강수확률</span>,\n",
       " <span class=\"blind\">맑음</span>,\n",
       " <span class=\"blind\">강수확률</span>,\n",
       " <span class=\"blind\">맑음</span>,\n",
       " <span class=\"blind\">강수확률</span>,\n",
       " <span class=\"blind\">맑음</span>,\n",
       " <span class=\"blind\">강수확률</span>,\n",
       " <span class=\"blind\">맑음</span>,\n",
       " <span class=\"blind\">강수확률</span>,\n",
       " <span class=\"blind\">맑음</span>,\n",
       " <span class=\"blind\">강수확률</span>,\n",
       " <span class=\"blind\">맑음</span>,\n",
       " <span class=\"blind\">강수확률</span>,\n",
       " <span class=\"blind\">맑음</span>,\n",
       " <span class=\"blind\">강수확률</span>,\n",
       " <span class=\"blind\">맑음</span>,\n",
       " <span class=\"blind\">강수확률</span>,\n",
       " <span class=\"blind\">맑음</span>,\n",
       " <span class=\"blind\">강수확률</span>,\n",
       " <span class=\"blind\">맑음</span>,\n",
       " <span class=\"blind\">강수확률</span>,\n",
       " <span class=\"blind\">맑음</span>,\n",
       " <span class=\"blind\">강수확률</span>,\n",
       " <span class=\"blind\">맑음</span>,\n",
       " <span class=\"blind\">강수확률</span>,\n",
       " <span class=\"blind\">맑음</span>,\n",
       " <span class=\"blind\">강수확률</span>,\n",
       " <span class=\"blind\">맑음</span>,\n",
       " <span class=\"blind\">강수확률</span>,\n",
       " <span class=\"blind\">맑음</span>,\n",
       " <span class=\"blind\">강수확률</span>,\n",
       " <span class=\"blind\">맑음</span>,\n",
       " <span class=\"blind\">강수확률</span>,\n",
       " <span class=\"blind\">맑음</span>,\n",
       " <span class=\"blind\">강수확률</span>,\n",
       " <span class=\"blind\">맑음</span>,\n",
       " <span class=\"blind\">강수확률</span>,\n",
       " <span class=\"blind\">맑음</span>,\n",
       " <span class=\"blind\">강수확률</span>,\n",
       " <span class=\"blind\">맑음</span>,\n",
       " <span class=\"blind\">강수확률</span>,\n",
       " <span class=\"blind\">맑음</span>,\n",
       " <span class=\"blind\">강수확률</span>,\n",
       " <span class=\"blind\">맑음</span>,\n",
       " <span class=\"blind\">강수확률</span>,\n",
       " <span class=\"blind\">맑음</span>,\n",
       " <span class=\"blind\">강수확률</span>,\n",
       " <span class=\"blind\">맑음</span>,\n",
       " <span class=\"blind\">강수확률</span>,\n",
       " <span class=\"blind\">맑음</span>,\n",
       " <span class=\"blind\">강수확률</span>,\n",
       " <span class=\"blind\">맑음</span>,\n",
       " <span class=\"blind\">강수확률</span>,\n",
       " <span class=\"blind\">맑음</span>,\n",
       " <span class=\"blind\">강수확률</span>,\n",
       " <span class=\"blind\">맑음</span>,\n",
       " <span class=\"blind\">강수확률</span>,\n",
       " <span class=\"blind\">맑음</span>,\n",
       " <span class=\"blind\">강수확률</span>,\n",
       " <span class=\"blind\">맑음</span>,\n",
       " <span class=\"blind\">강수확률</span>,\n",
       " <span class=\"blind\">맑음</span>,\n",
       " <span class=\"blind\">강수확률</span>,\n",
       " <span class=\"blind\">맑음</span>,\n",
       " <span class=\"blind\">강수확률</span>,\n",
       " <span class=\"blind\">맑음</span>,\n",
       " <span class=\"blind\">강수확률</span>,\n",
       " <span class=\"blind\">구름많음</span>,\n",
       " <span class=\"blind\">강수확률</span>,\n",
       " <span class=\"blind\">맑음</span>,\n",
       " <span class=\"blind\">강수확률</span>,\n",
       " <span class=\"blind\">구름많음</span>,\n",
       " <span class=\"blind\">강수확률</span>,\n",
       " <span class=\"blind\">구름많음</span>,\n",
       " <span class=\"blind\">강수확률</span>,\n",
       " <span class=\"blind\">맑음</span>,\n",
       " <span class=\"blind\">강수확률</span>,\n",
       " <span class=\"blind\">맑음</span>,\n",
       " <span class=\"blind\">강수확률</span>,\n",
       " <span class=\"blind\">맑음</span>,\n",
       " <span class=\"blind\">강수확률</span>,\n",
       " <span class=\"blind\">구름많음</span>,\n",
       " <span class=\"blind\">강수확률</span>,\n",
       " <span class=\"blind\">구름많음</span>,\n",
       " <span class=\"blind\">강수확률</span>,\n",
       " <span class=\"blind\">맑음</span>,\n",
       " <span class=\"blind\">강수확률</span>,\n",
       " <span class=\"blind\">맑음</span>,\n",
       " <span class=\"blind\">강수확률</span>,\n",
       " <span class=\"blind\">맑음</span>,\n",
       " <span class=\"blind\">강수확률</span>,\n",
       " <span class=\"blind\">맑음</span>,\n",
       " <span class=\"blind\">강수확률</span>,\n",
       " <span class=\"blind\">맑음</span>,\n",
       " <span class=\"blind\">강수확률</span>,\n",
       " <span class=\"blind\">맑음</span>,\n",
       " <span class=\"blind\">강수확률</span>,\n",
       " <span class=\"blind\">맑음</span>,\n",
       " <span class=\"blind\">강수확률</span>,\n",
       " <span class=\"blind\">맑음</span>,\n",
       " <span class=\"blind\">강수확률</span>,\n",
       " <span class=\"blind\">맑음</span>,\n",
       " <span class=\"blind\">강수확률</span>,\n",
       " <span class=\"blind\">맑음</span>,\n",
       " <span class=\"blind\">강수확률</span>,\n",
       " <span class=\"blind\">맑음</span>,\n",
       " <span class=\"blind\">강수확률</span>,\n",
       " <span class=\"blind\">맑음</span>,\n",
       " <span class=\"blind\">강수확률</span>,\n",
       " <span class=\"blind\">맑음</span>,\n",
       " <span class=\"blind\">강수확률</span>,\n",
       " <span class=\"blind\">맑음</span>,\n",
       " <span class=\"blind\">강수확률</span>,\n",
       " <span class=\"blind\">맑음</span>,\n",
       " <span class=\"blind\">강수확률</span>,\n",
       " <span class=\"blind\">맑음</span>,\n",
       " <span class=\"blind\">강수확률</span>,\n",
       " <span class=\"blind\">맑음</span>,\n",
       " <span class=\"blind\">강수확률</span>,\n",
       " <span class=\"blind\">맑음</span>,\n",
       " <span class=\"blind\">강수확률</span>,\n",
       " <span class=\"blind\">맑음</span>,\n",
       " <span class=\"blind\">강수확률</span>,\n",
       " <span class=\"blind\">맑음</span>,\n",
       " <span class=\"blind\">강수확률</span>,\n",
       " <span class=\"blind\">맑음</span>,\n",
       " <span class=\"blind\">강수확률</span>,\n",
       " <span class=\"blind\">맑음</span>,\n",
       " <span class=\"blind\">강수확률</span>,\n",
       " <span class=\"blind\">맑음</span>,\n",
       " <span class=\"blind\">강수확률</span>,\n",
       " <span class=\"blind\">구름많음</span>,\n",
       " <span class=\"blind\">강수확률</span>,\n",
       " <span class=\"blind\">구름많음</span>,\n",
       " <span class=\"blind\">강수확률</span>,\n",
       " <span class=\"blind\">구름많음</span>,\n",
       " <span class=\"blind\">강수확률</span>,\n",
       " <span class=\"blind\">구름많음</span>,\n",
       " <span class=\"blind\">강수확률</span>,\n",
       " <span class=\"blind\">구름많음</span>,\n",
       " <span class=\"blind\">강수확률</span>,\n",
       " <span class=\"blind\">구름많음</span>,\n",
       " <span class=\"blind\">강수확률</span>,\n",
       " <span class=\"blind\">구름많음</span>,\n",
       " <span class=\"blind\">강수확률</span>,\n",
       " <span class=\"blind\">구름많음</span>,\n",
       " <span class=\"blind\">강수확률</span>,\n",
       " <span class=\"blind\">구름많음</span>,\n",
       " <span class=\"blind\">강수확률</span>,\n",
       " <span class=\"blind\">이전 보기</span>,\n",
       " <span class=\"blind\">다음 보기</span>,\n",
       " <span class=\"blind\">도움말</span>,\n",
       " <span class=\"blind\">도움말 닫기</span>,\n",
       " <span class=\"blind\">도움말</span>,\n",
       " <span class=\"blind\">닫기</span>,\n",
       " <span class=\"blind\">도움말</span>,\n",
       " <span class=\"blind\">도움말 닫기</span>,\n",
       " <span class=\"blind\">강수확률</span>,\n",
       " <span class=\"blind\">강수확률</span>,\n",
       " <span class=\"blind\">최저기온</span>,\n",
       " <span class=\"blind\">최고기온</span>,\n",
       " <span class=\"blind\">강수확률</span>,\n",
       " <span class=\"blind\">강수확률</span>,\n",
       " <span class=\"blind\">최저기온</span>,\n",
       " <span class=\"blind\">최고기온</span>,\n",
       " <span class=\"blind\">강수확률</span>,\n",
       " <span class=\"blind\">맑음</span>,\n",
       " <span class=\"blind\">맑음</span>,\n",
       " <span class=\"blind\">강수확률</span>,\n",
       " <span class=\"blind\">최저기온</span>,\n",
       " <span class=\"blind\">최고기온</span>,\n",
       " <span class=\"blind\">강수확률</span>,\n",
       " <span class=\"blind\">맑음</span>,\n",
       " <span class=\"blind\">맑음</span>,\n",
       " <span class=\"blind\">강수확률</span>,\n",
       " <span class=\"blind\">최저기온</span>,\n",
       " <span class=\"blind\">최고기온</span>,\n",
       " <span class=\"blind\">강수확률</span>,\n",
       " <span class=\"blind\">맑음</span>,\n",
       " <span class=\"blind\">맑음</span>,\n",
       " <span class=\"blind\">강수확률</span>,\n",
       " <span class=\"blind\">최저기온</span>,\n",
       " <span class=\"blind\">최고기온</span>,\n",
       " <span class=\"blind\">강수확률</span>,\n",
       " <span class=\"blind\">맑음</span>,\n",
       " <span class=\"blind\">구름많음</span>,\n",
       " <span class=\"blind\">강수확률</span>,\n",
       " <span class=\"blind\">최저기온</span>,\n",
       " <span class=\"blind\">최고기온</span>,\n",
       " <span class=\"blind\">강수확률</span>,\n",
       " <span class=\"blind\">구름많음</span>,\n",
       " <span class=\"blind\">맑음</span>,\n",
       " <span class=\"blind\">강수확률</span>,\n",
       " <span class=\"blind\">최저기온</span>,\n",
       " <span class=\"blind\">최고기온</span>,\n",
       " <span class=\"blind\">강수확률</span>,\n",
       " <span class=\"blind\">구름많음</span>,\n",
       " <span class=\"blind\">맑음</span>,\n",
       " <span class=\"blind\">강수확률</span>,\n",
       " <span class=\"blind\">최저기온</span>,\n",
       " <span class=\"blind\">최고기온</span>,\n",
       " <span class=\"blind\">강수확률</span>,\n",
       " <span class=\"blind\">맑음</span>,\n",
       " <span class=\"blind\">맑음</span>,\n",
       " <span class=\"blind\">강수확률</span>,\n",
       " <span class=\"blind\">최저기온</span>,\n",
       " <span class=\"blind\">최고기온</span>,\n",
       " <span class=\"blind\">강수확률</span>,\n",
       " <span class=\"blind\">맑음</span>,\n",
       " <span class=\"blind\">맑음</span>,\n",
       " <span class=\"blind\">강수확률</span>,\n",
       " <span class=\"blind\">최저기온</span>,\n",
       " <span class=\"blind\">최고기온</span>,\n",
       " <span class=\"blind\">강수확률</span>,\n",
       " <span class=\"blind\">맑음</span>,\n",
       " <span class=\"blind\">맑음</span>,\n",
       " <span class=\"blind\">강수확률</span>,\n",
       " <span class=\"blind\">최저기온</span>,\n",
       " <span class=\"blind\">최고기온</span>,\n",
       " <span class=\"blind\">강수확률</span>,\n",
       " <span class=\"blind\">구름많음</span>,\n",
       " <span class=\"blind\">구름많음</span>,\n",
       " <span class=\"blind\">강수확률</span>,\n",
       " <span class=\"blind\">최저기온</span>,\n",
       " <span class=\"blind\">최고기온</span>,\n",
       " <span class=\"blind\">강수확률</span>,\n",
       " <span class=\"blind\">구름많음</span>,\n",
       " <span class=\"blind\">구름많음</span>,\n",
       " <span class=\"blind\">강수확률</span>,\n",
       " <span class=\"blind\">최저기온</span>,\n",
       " <span class=\"blind\">최고기온</span>,\n",
       " <span class=\"blind\">이전 보기</span>,\n",
       " <span class=\"blind\">다음 보기</span>,\n",
       " <span class=\"blind\">도움말</span>,\n",
       " <span class=\"blind\">닫기</span>,\n",
       " <span class=\"blind\">이전 보기</span>,\n",
       " <span class=\"blind\">다음 보기</span>,\n",
       " <span class=\"blind\">선택됨</span>,\n",
       " <span class=\"blind\">재생</span>,\n",
       " <span class=\"blind\">재생 중</span>,\n",
       " <span class=\"blind\">동영상 총 재생 시간</span>,\n",
       " <span class=\"blind\">중</span>,\n",
       " <span aria-live=\"polite\" class=\"blind\">2022년 05월 16일 16시 40분 한중일 위성영상</span>,\n",
       " <span class=\"blind\">재생</span>,\n",
       " <span class=\"blind\">재생 중</span>,\n",
       " <span class=\"blind\">동영상 총 재생 시간</span>,\n",
       " <span class=\"blind\">중</span>,\n",
       " <span aria-live=\"polite\" class=\"blind\">2022년 05월 16일 18시 20분 한반도 레이더영상</span>,\n",
       " <span class=\"blind\">동영상 뉴스</span>,\n",
       " <span class=\"blind\">재생시간</span>,\n",
       " <span class=\"blind\">동영상 뉴스</span>,\n",
       " <span class=\"blind\">재생시간</span>,\n",
       " <span class=\"blind\">동영상 뉴스</span>,\n",
       " <span class=\"blind\">재생시간</span>,\n",
       " <span class=\"blind\">동영상 뉴스</span>,\n",
       " <span class=\"blind\">재생시간</span>,\n",
       " <span class=\"blind\">동영상 뉴스</span>,\n",
       " <span class=\"blind\">재생시간</span>,\n",
       " <span class=\"blind\">동영상 뉴스</span>,\n",
       " <span class=\"blind\">재생시간</span>,\n",
       " <span class=\"blind\">이전 보기</span>,\n",
       " <span class=\"blind\">다음 뉴스 보기</span>,\n",
       " <span class=\"blind\">시간</span>,\n",
       " <span class=\"blind\">시간</span>,\n",
       " <span class=\"blind\">계절 월별 평균 정보. 기간, 평년기온, 평년강수 정보</span>,\n",
       " <span class=\"blind\">계절 월별 평균 정보. 기간, 평년기온, 평년강수 정보</span>,\n",
       " <span class=\"blind\">계절 월별 평균 정보. 기간, 평년기온, 평년강수 정보</span>,\n",
       " <span class=\"blind\">월간 기간별 평균 정보. 기간, 평년기온, 평년강수 정보</span>,\n",
       " <span class=\"blind\">월간 기간별 평균 정보. 기간, 평년기온, 평년강수 정보</span>,\n",
       " <span class=\"blind\">월간 기간별 평균 정보. 기간, 평년기온, 평년강수 정보</span>,\n",
       " <span class=\"blind\">월간 기간별 평균 정보. 기간, 평년기온, 평년강수 정보</span>,\n",
       " <span class=\"blind\">기상청 설정</span>,\n",
       " <span class=\"blind\">아큐웨더 설정</span>,\n",
       " <span class=\"blind\">웨더채널 설정</span>,\n",
       " <span class=\"blind\">이전 보기</span>,\n",
       " <span class=\"blind\">다음 보기</span>,\n",
       " <span class=\"blind\">팝업 닫기</span>]"
      ]
     },
     "execution_count": 13,
     "metadata": {},
     "output_type": "execute_result"
    }
   ],
   "source": [
    "soup.select('span.blind')"
   ]
  },
  {
   "cell_type": "code",
   "execution_count": 14,
   "metadata": {},
   "outputs": [
    {
     "data": {
      "text/plain": [
       "[<span class=\"blind\">현재 온도</span>]"
      ]
     },
     "execution_count": 14,
     "metadata": {},
     "output_type": "execute_result"
    }
   ],
   "source": [
    "soup.select('strong.current > span.blind')"
   ]
  },
  {
   "cell_type": "code",
   "execution_count": 15,
   "metadata": {},
   "outputs": [
    {
     "data": {
      "text/plain": [
       "[<strong class=\"current\">\n",
       " <span class=\"blind\">현재 온도</span>20.6<span class=\"degree\">°</span>\n",
       " </strong>]"
      ]
     },
     "execution_count": 15,
     "metadata": {},
     "output_type": "execute_result"
    }
   ],
   "source": [
    "soup.select('strong.current')"
   ]
  },
  {
   "cell_type": "code",
   "execution_count": 18,
   "metadata": {},
   "outputs": [
    {
     "data": {
      "text/plain": [
       "'현재 온도20.6°'"
      ]
     },
     "execution_count": 18,
     "metadata": {},
     "output_type": "execute_result"
    }
   ],
   "source": [
    "soup.select('strong.current')[0].text.strip()"
   ]
  },
  {
   "cell_type": "code",
   "execution_count": 20,
   "metadata": {},
   "outputs": [
    {
     "data": {
      "text/plain": [
       "'20.6°'"
      ]
     },
     "execution_count": 20,
     "metadata": {},
     "output_type": "execute_result"
    }
   ],
   "source": [
    "soup.select('strong.current')[0].text.strip()[5:]"
   ]
  },
  {
   "cell_type": "code",
   "execution_count": 26,
   "metadata": {},
   "outputs": [
    {
     "data": {
      "text/plain": [
       "'맑음'"
      ]
     },
     "execution_count": 26,
     "metadata": {},
     "output_type": "execute_result"
    }
   ],
   "source": [
    "soup.select('p.summary > span.weather')[0].text.strip() #문법적으로 단어 뽑을떄 [0]"
   ]
  },
  {
   "cell_type": "code",
   "execution_count": null,
   "metadata": {},
   "outputs": [],
   "source": []
  },
  {
   "cell_type": "code",
   "execution_count": 28,
   "metadata": {},
   "outputs": [
    {
     "name": "stdout",
     "output_type": "stream",
     "text": [
      "현재 온도: 20.2°\n",
      "현재 상태: 맑음\n"
     ]
    }
   ],
   "source": [
    "######################################\n",
    "# 코드 종합\n",
    "######################################\n",
    "\n",
    "import requests                       #웹페이지 연결\n",
    "from bs4 import BeautifulSoup as bs   #가져온 페이지를 분석하기 용이하게 정제\n",
    "import pandas as pd  \n",
    "from datetime import datetime, timedelta, timezone\n",
    "\n",
    "html = requests.get('https://weather.naver.com/')\n",
    "soup = bs(html.text)\n",
    "\n",
    "print('현재 온도:',soup.select('strong.current')[0].text.strip()[5:])\n",
    "print('현재 상태:',soup.select('p.summary > span.weather')[0].text.strip() )\n"
   ]
  },
  {
   "cell_type": "code",
   "execution_count": null,
   "metadata": {},
   "outputs": [],
   "source": []
  },
  {
   "cell_type": "code",
   "execution_count": null,
   "metadata": {},
   "outputs": [],
   "source": []
  },
  {
   "cell_type": "code",
   "execution_count": null,
   "metadata": {},
   "outputs": [],
   "source": []
  },
  {
   "cell_type": "code",
   "execution_count": 4,
   "metadata": {},
   "outputs": [
    {
     "data": {
      "text/plain": [
       "1"
      ]
     },
     "execution_count": 4,
     "metadata": {},
     "output_type": "execute_result"
    }
   ],
   "source": [
    "len(soup.select('div.weather_now'))"
   ]
  },
  {
   "cell_type": "code",
   "execution_count": 5,
   "metadata": {},
   "outputs": [],
   "source": [
    "weathers = soup.select('div.weather_now')\n",
    "weather = weathers[0]"
   ]
  },
  {
   "cell_type": "code",
   "execution_count": 12,
   "metadata": {},
   "outputs": [
    {
     "ename": "AttributeError",
     "evalue": "ResultSet object has no attribute 'strip'. You're probably treating a list of elements like a single element. Did you call find_all() when you meant to call find()?",
     "output_type": "error",
     "traceback": [
      "\u001b[1;31m---------------------------------------------------------------------------\u001b[0m",
      "\u001b[1;31mAttributeError\u001b[0m                            Traceback (most recent call last)",
      "\u001b[1;32mc:\\Users\\kwbae\\Documents\\pythonclass0511\\p0516.ipynb Cell 5'\u001b[0m in \u001b[0;36m<cell line: 1>\u001b[1;34m()\u001b[0m\n\u001b[1;32m----> <a href='vscode-notebook-cell:/c%3A/Users/kwbae/Documents/pythonclass0511/p0516.ipynb#ch0000004?line=0'>1</a>\u001b[0m weather\u001b[39m.\u001b[39;49mselect(\u001b[39m'\u001b[39;49m\u001b[39mstrong.current\u001b[39;49m\u001b[39m'\u001b[39;49m)\u001b[39m.\u001b[39;49mstrip()\n",
      "File \u001b[1;32mc:\\Users\\kwbae\\AppData\\Local\\Programs\\Python\\Python310\\lib\\site-packages\\bs4\\element.py:2289\u001b[0m, in \u001b[0;36mResultSet.__getattr__\u001b[1;34m(self, key)\u001b[0m\n\u001b[0;32m   <a href='file:///c%3A/Users/kwbae/AppData/Local/Programs/Python/Python310/lib/site-packages/bs4/element.py?line=2286'>2287</a>\u001b[0m \u001b[39mdef\u001b[39;00m \u001b[39m__getattr__\u001b[39m(\u001b[39mself\u001b[39m, key):\n\u001b[0;32m   <a href='file:///c%3A/Users/kwbae/AppData/Local/Programs/Python/Python310/lib/site-packages/bs4/element.py?line=2287'>2288</a>\u001b[0m     \u001b[39m\"\"\"Raise a helpful exception to explain a common code fix.\"\"\"\u001b[39;00m\n\u001b[1;32m-> <a href='file:///c%3A/Users/kwbae/AppData/Local/Programs/Python/Python310/lib/site-packages/bs4/element.py?line=2288'>2289</a>\u001b[0m     \u001b[39mraise\u001b[39;00m \u001b[39mAttributeError\u001b[39;00m(\n\u001b[0;32m   <a href='file:///c%3A/Users/kwbae/AppData/Local/Programs/Python/Python310/lib/site-packages/bs4/element.py?line=2289'>2290</a>\u001b[0m         \u001b[39m\"\u001b[39m\u001b[39mResultSet object has no attribute \u001b[39m\u001b[39m'\u001b[39m\u001b[39m%s\u001b[39;00m\u001b[39m'\u001b[39m\u001b[39m. You\u001b[39m\u001b[39m'\u001b[39m\u001b[39mre probably treating a list of elements like a single element. Did you call find_all() when you meant to call find()?\u001b[39m\u001b[39m\"\u001b[39m \u001b[39m%\u001b[39m key\n\u001b[0;32m   <a href='file:///c%3A/Users/kwbae/AppData/Local/Programs/Python/Python310/lib/site-packages/bs4/element.py?line=2290'>2291</a>\u001b[0m     )\n",
      "\u001b[1;31mAttributeError\u001b[0m: ResultSet object has no attribute 'strip'. You're probably treating a list of elements like a single element. Did you call find_all() when you meant to call find()?"
     ]
    }
   ],
   "source": [
    "weather.select('strong.current').strip()"
   ]
  }
 ],
 "metadata": {
  "interpreter": {
   "hash": "0956322cca7aaaa41d064280c32159765ca4d83ed985d2ef268a5d94ca36971e"
  },
  "kernelspec": {
   "display_name": "Python 3.10.4 64-bit",
   "language": "python",
   "name": "python3"
  },
  "language_info": {
   "codemirror_mode": {
    "name": "ipython",
    "version": 3
   },
   "file_extension": ".py",
   "mimetype": "text/x-python",
   "name": "python",
   "nbconvert_exporter": "python",
   "pygments_lexer": "ipython3",
   "version": "3.10.4"
  },
  "orig_nbformat": 4
 },
 "nbformat": 4,
 "nbformat_minor": 2
}
