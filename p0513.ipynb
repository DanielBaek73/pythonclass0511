{
 "cells": [
  {
   "cell_type": "code",
   "execution_count": 9,
   "metadata": {},
   "outputs": [
    {
     "name": "stdout",
     "output_type": "stream",
     "text": [
      "Requirement already satisfied: selenium in c:\\users\\kwbae\\anaconda3\\lib\\site-packages (4.1.5)\n",
      "Requirement already satisfied: trio~=0.17 in c:\\users\\kwbae\\anaconda3\\lib\\site-packages (from selenium) (0.20.0)\n",
      "Requirement already satisfied: trio-websocket~=0.9 in c:\\users\\kwbae\\anaconda3\\lib\\site-packages (from selenium) (0.9.2)\n",
      "Requirement already satisfied: urllib3[secure,socks]~=1.26 in c:\\users\\kwbae\\anaconda3\\lib\\site-packages (from selenium) (1.26.7)\n",
      "Requirement already satisfied: idna in c:\\users\\kwbae\\anaconda3\\lib\\site-packages (from trio~=0.17->selenium) (3.2)\n",
      "Requirement already satisfied: cffi>=1.14 in c:\\users\\kwbae\\anaconda3\\lib\\site-packages (from trio~=0.17->selenium) (1.14.6)\n",
      "Requirement already satisfied: sortedcontainers in c:\\users\\kwbae\\anaconda3\\lib\\site-packages (from trio~=0.17->selenium) (2.4.0)\n",
      "Requirement already satisfied: outcome in c:\\users\\kwbae\\anaconda3\\lib\\site-packages (from trio~=0.17->selenium) (1.1.0)\n",
      "Requirement already satisfied: attrs>=19.2.0 in c:\\users\\kwbae\\anaconda3\\lib\\site-packages (from trio~=0.17->selenium) (21.2.0)\n",
      "Requirement already satisfied: async-generator>=1.9 in c:\\users\\kwbae\\anaconda3\\lib\\site-packages (from trio~=0.17->selenium) (1.10)\n",
      "Requirement already satisfied: sniffio in c:\\users\\kwbae\\anaconda3\\lib\\site-packages (from trio~=0.17->selenium) (1.2.0)\n",
      "Requirement already satisfied: pycparser in c:\\users\\kwbae\\anaconda3\\lib\\site-packages (from cffi>=1.14->trio~=0.17->selenium) (2.20)\n",
      "Requirement already satisfied: wsproto>=0.14 in c:\\users\\kwbae\\anaconda3\\lib\\site-packages (from trio-websocket~=0.9->selenium) (1.1.0)\n",
      "Requirement already satisfied: PySocks!=1.5.7,<2.0,>=1.5.6 in c:\\users\\kwbae\\anaconda3\\lib\\site-packages (from urllib3[secure,socks]~=1.26->selenium) (1.7.1)\n",
      "Requirement already satisfied: pyOpenSSL>=0.14 in c:\\users\\kwbae\\anaconda3\\lib\\site-packages (from urllib3[secure,socks]~=1.26->selenium) (21.0.0)\n",
      "Requirement already satisfied: cryptography>=1.3.4 in c:\\users\\kwbae\\anaconda3\\lib\\site-packages (from urllib3[secure,socks]~=1.26->selenium) (3.4.8)\n",
      "Requirement already satisfied: certifi in c:\\users\\kwbae\\anaconda3\\lib\\site-packages (from urllib3[secure,socks]~=1.26->selenium) (2021.10.8)\n",
      "Requirement already satisfied: six>=1.5.2 in c:\\users\\kwbae\\anaconda3\\lib\\site-packages (from pyOpenSSL>=0.14->urllib3[secure,socks]~=1.26->selenium) (1.16.0)\n",
      "Requirement already satisfied: h11<1,>=0.9.0 in c:\\users\\kwbae\\anaconda3\\lib\\site-packages (from wsproto>=0.14->trio-websocket~=0.9->selenium) (0.13.0)\n"
     ]
    }
   ],
   "source": [
    "\n",
    "!pip install selenium\n",
    "# !apt-get update\n",
    "# !apt install chromium-chromedriver\n",
    "# !cp /usr/lib/chromium-browser/chromedriver/usr/bin\n",
    "\n",
    "# from selenium import webdriver\n",
    "\n",
    "# options =webdriver.ChromeOptions()\n",
    "# options.add_argument('--headless')\n",
    "# options.add_argument('--no-sandbox')\n",
    "# options.add_argument('--disable-dev-shm-usage')\n",
    "# driver = webdriver.Chrome('chromedriver', options=options)\n",
    "\n"
   ]
  },
  {
   "cell_type": "code",
   "execution_count": null,
   "metadata": {},
   "outputs": [],
   "source": [
    "# import requests   #파이썬으로 웹연결해서 소스 읽어오기\n",
    "# from bs4 import BeautifulSoup as bs    #데이터 분석을 용이하게 정제\n",
    "# import pandas as pd     #데이터 분석 모듈\n",
    "\n",
    "# html = requests.get('https://movie.naver.com/movie/sdb/rank/rmovie.naver?sel=cur&date=20220510') #주소의 소스를 요청하여 사이트에서 직접 긁어온다\n",
    "# soup = bs(html.text)    #가지고 온 html의 텍스트를 추출"
   ]
  },
  {
   "cell_type": "code",
   "execution_count": 1,
   "metadata": {},
   "outputs": [],
   "source": [
    "from selenium import webdriver   #사이트에 직접 요청하는것이 아닌 로컬에 이미 저장된 소스를 가지고옴\n",
    "from bs4 import BeautifulSoup as bs    #읽어온 소스를 분석하기 쉽게 정제\n",
    "import pandas as pd     #데이터 분석 모듈\n"
   ]
  },
  {
   "cell_type": "code",
   "execution_count": 2,
   "metadata": {},
   "outputs": [
    {
     "name": "stderr",
     "output_type": "stream",
     "text": [
      "C:\\Temp\\ipykernel_20600\\2773963114.py:1: DeprecationWarning: executable_path has been deprecated, please pass in a Service object\n",
      "  driver = webdriver.Chrome('chromedriver.exe')    #크롬 브라우저 띄우기\n"
     ]
    }
   ],
   "source": [
    "driver = webdriver.Chrome('chromedriver.exe')    #크롬 브라우저 띄우기\n",
    "driver.get('https://www.melon.com/chart/')  #사이트 연결\n",
    "html = driver.page_source   #소스 읽어오기"
   ]
  },
  {
   "cell_type": "code",
   "execution_count": 3,
   "metadata": {},
   "outputs": [],
   "source": [
    "soup = bs(html)"
   ]
  },
  {
   "cell_type": "code",
   "execution_count": 32,
   "metadata": {},
   "outputs": [],
   "source": [
    "# soup"
   ]
  },
  {
   "cell_type": "code",
   "execution_count": 4,
   "metadata": {},
   "outputs": [
    {
     "data": {
      "text/plain": [
       "101"
      ]
     },
     "execution_count": 4,
     "metadata": {},
     "output_type": "execute_result"
    }
   ],
   "source": [
    "len(soup.select('tr'))"
   ]
  },
  {
   "cell_type": "code",
   "execution_count": 5,
   "metadata": {},
   "outputs": [
    {
     "data": {
      "text/plain": [
       "50"
      ]
     },
     "execution_count": 5,
     "metadata": {},
     "output_type": "execute_result"
    }
   ],
   "source": [
    "len(soup.select('tr.lst50'))  #50개씩 나눠져 있다"
   ]
  },
  {
   "cell_type": "code",
   "execution_count": 6,
   "metadata": {},
   "outputs": [
    {
     "data": {
      "text/plain": [
       "50"
      ]
     },
     "execution_count": 6,
     "metadata": {},
     "output_type": "execute_result"
    }
   ],
   "source": [
    "len(soup.select('tr.lst100'))  #또다른 개발자가 50개씩 나눠서 개발"
   ]
  },
  {
   "cell_type": "code",
   "execution_count": 7,
   "metadata": {},
   "outputs": [
    {
     "data": {
      "text/plain": [
       "100"
      ]
     },
     "execution_count": 7,
     "metadata": {},
     "output_type": "execute_result"
    }
   ],
   "source": [
    "len(soup.select('tbody > tr'))"
   ]
  },
  {
   "cell_type": "code",
   "execution_count": 23,
   "metadata": {},
   "outputs": [
    {
     "name": "stdout",
     "output_type": "stream",
     "text": [
      "<class 'bs4.element.ResultSet'>\n"
     ]
    }
   ],
   "source": [
    "songs = soup.select('tbody > tr')  #100곡 추출\n",
    "song = songs[0]  #1위곡만 추출\n",
    "# song\n",
    "print(type(songs))"
   ]
  },
  {
   "cell_type": "code",
   "execution_count": 23,
   "metadata": {},
   "outputs": [
    {
     "data": {
      "text/plain": [
       "6"
      ]
     },
     "execution_count": 23,
     "metadata": {},
     "output_type": "execute_result"
    }
   ],
   "source": [
    "len(song.select('a'))"
   ]
  },
  {
   "cell_type": "code",
   "execution_count": 11,
   "metadata": {},
   "outputs": [
    {
     "data": {
      "text/plain": [
       "2"
      ]
     },
     "execution_count": 11,
     "metadata": {},
     "output_type": "execute_result"
    }
   ],
   "source": [
    "len(song.select('span > a'))"
   ]
  },
  {
   "cell_type": "code",
   "execution_count": 12,
   "metadata": {},
   "outputs": [
    {
     "data": {
      "text/plain": [
       "[<a href=\"javascript:melon.play.playSong('1000002721',34997078);\" title=\"That That (prod. &amp; feat. SUGA of BTS) 재생\">That That (prod. &amp; feat. SUGA of BTS)</a>,\n",
       " <a href=\"javascript:melon.link.goArtistDetail('3865');\" title=\"싸이 (PSY) - 페이지 이동\">싸이 (PSY)</a>]"
      ]
     },
     "execution_count": 12,
     "metadata": {},
     "output_type": "execute_result"
    }
   ],
   "source": [
    "song.select('span > a')"
   ]
  },
  {
   "cell_type": "code",
   "execution_count": 13,
   "metadata": {},
   "outputs": [
    {
     "data": {
      "text/plain": [
       "'That That (prod. & feat. SUGA of BTS)'"
      ]
     },
     "execution_count": 13,
     "metadata": {},
     "output_type": "execute_result"
    }
   ],
   "source": [
    "len(song.select('div.rank01 > span > a'))\n",
    "# len(song.select('div.ellipsis.rank01 > span > a')) #스페이스바를 .으로 표시\n",
    "\n",
    "\n",
    "song.select('div.rank01 > span > a')[0].text\n"
   ]
  },
  {
   "cell_type": "code",
   "execution_count": 21,
   "metadata": {},
   "outputs": [
    {
     "ename": "NameError",
     "evalue": "name 'song' is not defined",
     "output_type": "error",
     "traceback": [
      "\u001b[1;31m---------------------------------------------------------------------------\u001b[0m",
      "\u001b[1;31mNameError\u001b[0m                                 Traceback (most recent call last)",
      "\u001b[1;32mc:\\Users\\kwbae\\Documents\\pythonclass0511\\p0513.ipynb Cell 16'\u001b[0m in \u001b[0;36m<cell line: 3>\u001b[1;34m()\u001b[0m\n\u001b[0;32m      <a href='vscode-notebook-cell:/c%3A/Users/kwbae/Documents/pythonclass0511/p0513.ipynb#ch0000041?line=0'>1</a>\u001b[0m song\n\u001b[0;32m      <a href='vscode-notebook-cell:/c%3A/Users/kwbae/Documents/pythonclass0511/p0513.ipynb#ch0000041?line=1'>2</a>\u001b[0m \u001b[39mdel\u001b[39;00m song\n\u001b[1;32m----> <a href='vscode-notebook-cell:/c%3A/Users/kwbae/Documents/pythonclass0511/p0513.ipynb#ch0000041?line=2'>3</a>\u001b[0m song\n",
      "\u001b[1;31mNameError\u001b[0m: name 'song' is not defined"
     ]
    }
   ],
   "source": [
    "song\n",
    "del song   #변수 삭제\n",
    "song"
   ]
  },
  {
   "cell_type": "code",
   "execution_count": 24,
   "metadata": {},
   "outputs": [
    {
     "data": {
      "text/plain": [
       "'싸이 (PSY)'"
      ]
     },
     "execution_count": 24,
     "metadata": {},
     "output_type": "execute_result"
    }
   ],
   "source": [
    "song.select('div.rank02 > span > a')[0].text"
   ]
  },
  {
   "cell_type": "code",
   "execution_count": 15,
   "metadata": {},
   "outputs": [
    {
     "data": {
      "text/plain": [
       "[['melon', 1, 'That That (prod. & feat. SUGA of BTS)', '싸이 (PSY)'],\n",
       " ['melon', 2, '봄여름가을겨울 (Still Life)', 'BIGBANG (빅뱅)'],\n",
       " ['melon', 3, 'LOVE DIVE', 'IVE (아이브)'],\n",
       " ['melon', 4, 'TOMBOY', '(여자)아이들'],\n",
       " ['melon', 5, '사랑인가 봐', '멜로망스'],\n",
       " ['melon', 6, '사랑은 늘 도망가', '임영웅'],\n",
       " ['melon', 7, '우리들의 블루스', '임영웅'],\n",
       " ['melon', 8, 'Feel My Rhythm', 'Red Velvet (레드벨벳)'],\n",
       " ['melon', 9, '정이라고 하자 (Feat. 10CM)', 'BIG Naughty (서동현)'],\n",
       " ['melon', 10, '다시 만날 수 있을까', '임영웅'],\n",
       " ['melon', 11, 'LOVE me', \"BE'O (비오)\"],\n",
       " ['melon', 12, 'GANADARA (Feat. 아이유)', '박재범'],\n",
       " ['melon', 13, '취중고백', '김민석 (멜로망스)'],\n",
       " ['melon', 14, '나의 X에게', '경서'],\n",
       " ['melon', 15, 'ZOOM', '제시 (Jessi)'],\n",
       " ['melon', 16, '이제 나만 믿어요', '임영웅'],\n",
       " ['melon', 17, 'INVU', '태연 (TAEYEON)'],\n",
       " ['melon', 18, '무지개', '임영웅'],\n",
       " ['melon', 19, '아버지', '임영웅'],\n",
       " ['melon', 20, '듣고 싶을까', 'MSG워너비(M.O.M)'],\n",
       " ['melon', 21, '손이 참 곱던 그대', '임영웅'],\n",
       " ['melon', 22, '신호등', '이무진'],\n",
       " ['melon', 23, 'A bientot', '임영웅'],\n",
       " ['melon', 24, 'ELEVEN', 'IVE (아이브)'],\n",
       " ['melon', 25, '사랑해 진짜', '임영웅'],\n",
       " ['melon', 26, '다정히 내 이름을 부르면', '경서예지'],\n",
       " ['melon', 27, '연애편지', '임영웅'],\n",
       " ['melon', 28, '인생찬가', '임영웅'],\n",
       " ['melon', 29, '사랑역', '임영웅'],\n",
       " ['melon', 30, '보금자리', '임영웅'],\n",
       " ['melon', 31, 'MY BAG', '(여자)아이들'],\n",
       " ['melon', 32, '사랑해요 그대를', '임영웅'],\n",
       " ['melon', 33, 'FEARLESS', 'LE SSERAFIM (르세라핌)'],\n",
       " ['melon', 34, 'STAY', 'The Kid LAROI'],\n",
       " ['melon', 35, \"That's Hilarious\", 'Charlie Puth'],\n",
       " ['melon', 36, 'SMILEY (Feat. BIBI)', 'YENA (최예나)'],\n",
       " ['melon', 37, '회전목마 (Feat. Zion.T, 원슈타인) (Prod. Slom)', 'sokodomo'],\n",
       " ['melon', 38, '언제나 사랑해', '케이시 (Kassy)'],\n",
       " ['melon', 39, '너를 생각해', '주시크 (Joosiq)'],\n",
       " ['melon', 40, 'RUN2U', 'STAYC(스테이씨)'],\n",
       " ['melon', 41, 'Seoul', '볼빨간사춘기'],\n",
       " ['melon', 42, 'Next Level', 'aespa'],\n",
       " ['melon', 43, 'Celeb', '싸이 (PSY)'],\n",
       " ['melon', 44, 'Weekend', '태연 (TAEYEON)'],\n",
       " ['melon', 45, 'Dynamite', '방탄소년단'],\n",
       " ['melon', 46, '리무진 (Feat. MINO) (Prod. GRAY)', \"BE'O (비오)\"],\n",
       " ['melon', 47, '드라마', '아이유'],\n",
       " ['melon', 48, 'Butter', '방탄소년단'],\n",
       " ['melon', 49, '아무래도 난', '주시크 (Joosiq)'],\n",
       " ['melon', 50, 'strawberry moon', '아이유'],\n",
       " ['melon', 51, 'Step Back', 'GOT the beat'],\n",
       " ['melon', 52, '너의 모든 순간', '성시경'],\n",
       " ['melon', 53, 'Permission to Dance', '방탄소년단'],\n",
       " ['melon', 54, '내가 아니라도', '주호'],\n",
       " ['melon', 55, '호랑수월가', '탑현'],\n",
       " ['melon', 56, '내 손을 잡아', '아이유'],\n",
       " ['melon', 57, 'OHAYO MY NIGHT', '디핵 (D-Hack)'],\n",
       " ['melon', 58, '존재만으로', '원슈타인'],\n",
       " ['melon', 59, '라일락', '아이유'],\n",
       " ['melon', 60, 'Counting Stars (Feat. Beenzino)', \"BE'O (비오)\"],\n",
       " ['melon', 61, 'With you', '지민'],\n",
       " ['melon', 62, '눈이 오잖아(Feat.헤이즈)', '이무진'],\n",
       " ['melon', 63, '바라만 본다', 'MSG워너비(M.O.M)'],\n",
       " ['melon', 64, 'Savage', 'aespa'],\n",
       " ['melon', 65, '스물다섯, 스물하나', '자우림'],\n",
       " ['melon', 66, 'Celebrity', '아이유'],\n",
       " ['melon', 67, 'Bad Habits', 'Ed Sheeran'],\n",
       " ['melon', 68, '사랑인걸', '한동근'],\n",
       " ['melon', 69, '봄날', '방탄소년단'],\n",
       " ['melon', 70, '밤하늘의 별을(2020)', '경서'],\n",
       " ['melon', 71, '사이렌 Remix (Feat. UNEDUCATED KID, Paul Blanco)', '호미들'],\n",
       " ['melon', 72, '문득', \"BE'O (비오)\"],\n",
       " ['melon', 73, '찰나가 영원이 될 때 (The Eternal Moment)', '마크툽 (MAKTUB)'],\n",
       " ['melon', 74, '고백', '멜로망스'],\n",
       " ['melon', 75, '너, 너 (N번째 연애 X 휘인 (Whee In))', '휘인 (Whee In)'],\n",
       " ['melon', 76, '모든 날, 모든 순간 (Every day, Every Moment)', '폴킴'],\n",
       " ['melon', 77, 'My Universe', 'Coldplay'],\n",
       " ['melon', 78, 'Blueming', '아이유'],\n",
       " ['melon', 79, 'Good Boy Gone Bad', '투모로우바이투게더'],\n",
       " ['melon', 80, 'abcdefu', 'GAYLE'],\n",
       " ['melon', 81, 'Off My Face', 'Justin Bieber'],\n",
       " ['melon', 82, 'Real Love', '오마이걸 (OH MY GIRL)'],\n",
       " ['melon', 83, \"롤린 (Rollin')\", '브레이브걸스'],\n",
       " ['melon', 84, '헤픈 우연', '헤이즈 (Heize)'],\n",
       " ['melon', 85, 'Dun Dun Dance', '오마이걸 (OH MY GIRL)'],\n",
       " ['melon', 86, 'Dreams Come True', 'aespa'],\n",
       " ['melon',\n",
       "  87,\n",
       "  '만남은 쉽고 이별은 어려워 (Feat. Leellamarz) (Prod. TOIL)',\n",
       "  '베이식 (Basick)'],\n",
       " ['melon', 88, '어제처럼', '폴킴'],\n",
       " ['melon', 89, '감동이야 (feat. 성시경)', '싸이 (PSY)'],\n",
       " ['melon', 90, '어떻게 이별까지 사랑하겠어, 널 사랑하는 거지', 'AKMU (악뮤)'],\n",
       " ['melon', 91, '너의 번호를 누르고', '김나영'],\n",
       " ['melon', 92, '나는 트로트가 싫어요', '임창정'],\n",
       " ['melon', 93, '낙하 (with 아이유)', 'AKMU (악뮤)'],\n",
       " ['melon', 94, '서랍', '10CM'],\n",
       " ['melon', 95, '버퍼링 (Glitch Mode)', 'NCT DREAM'],\n",
       " ['melon', 96, '초대', '멜로망스'],\n",
       " ['melon', 97, 'Christmas Tree', 'V'],\n",
       " ['melon', 98, 'Starlight', '태일 (TAEIL)'],\n",
       " ['melon', 99, '초록을거머쥔우리는', '잔나비'],\n",
       " ['melon', 100, 'Darl+ing', '세븐틴']]"
      ]
     },
     "execution_count": 15,
     "metadata": {},
     "output_type": "execute_result"
    }
   ],
   "source": [
    "\n",
    "\n",
    "song_data = []\n",
    "rank = 1\n",
    "\n",
    "songs = soup.select('tbody > tr')  #100개 곡 가지고 옴\n",
    "# singers = soup.select('td.point')  #영화 평점 44개\n",
    "\n",
    "for song in songs:  #100번 반복\n",
    "  title = song.select('div.ellipsis.rank01 > span > a')[0].text\n",
    "  singer = song.select('div.ellipsis.rank02 > span > a')[0].text\n",
    "  song_data.append(['melon',rank,title,singer])\n",
    "  \n",
    "  rank += 1\n",
    "\n",
    "song_data"
   ]
  },
  {
   "cell_type": "code",
   "execution_count": 26,
   "metadata": {},
   "outputs": [
    {
     "data": {
      "text/plain": [
       "[['melon', 1, 'That That (prod. & feat. SUGA of BTS)', '싸이 (PSY)'],\n",
       " ['melon', 2, '봄여름가을겨울 (Still Life)', 'BIGBANG (빅뱅)'],\n",
       " ['melon', 3, 'LOVE DIVE', 'IVE (아이브)'],\n",
       " ['melon', 4, 'TOMBOY', '(여자)아이들'],\n",
       " ['melon', 5, '사랑인가 봐', '멜로망스'],\n",
       " ['melon', 6, '사랑은 늘 도망가', '임영웅'],\n",
       " ['melon', 7, '우리들의 블루스', '임영웅'],\n",
       " ['melon', 8, 'Feel My Rhythm', 'Red Velvet (레드벨벳)'],\n",
       " ['melon', 9, '정이라고 하자 (Feat. 10CM)', 'BIG Naughty (서동현)'],\n",
       " ['melon', 10, '다시 만날 수 있을까', '임영웅'],\n",
       " ['melon', 11, 'LOVE me', \"BE'O (비오)\"],\n",
       " ['melon', 12, 'GANADARA (Feat. 아이유)', '박재범'],\n",
       " ['melon', 13, '취중고백', '김민석 (멜로망스)'],\n",
       " ['melon', 14, '나의 X에게', '경서'],\n",
       " ['melon', 15, 'ZOOM', '제시 (Jessi)'],\n",
       " ['melon', 16, '이제 나만 믿어요', '임영웅'],\n",
       " ['melon', 17, 'INVU', '태연 (TAEYEON)'],\n",
       " ['melon', 18, '무지개', '임영웅'],\n",
       " ['melon', 19, '아버지', '임영웅'],\n",
       " ['melon', 20, '듣고 싶을까', 'MSG워너비(M.O.M)'],\n",
       " ['melon', 21, '손이 참 곱던 그대', '임영웅'],\n",
       " ['melon', 22, '신호등', '이무진'],\n",
       " ['melon', 23, 'A bientot', '임영웅'],\n",
       " ['melon', 24, 'ELEVEN', 'IVE (아이브)'],\n",
       " ['melon', 25, '사랑해 진짜', '임영웅'],\n",
       " ['melon', 26, '다정히 내 이름을 부르면', '경서예지'],\n",
       " ['melon', 27, '연애편지', '임영웅'],\n",
       " ['melon', 28, '인생찬가', '임영웅'],\n",
       " ['melon', 29, '사랑역', '임영웅'],\n",
       " ['melon', 30, '보금자리', '임영웅'],\n",
       " ['melon', 31, 'MY BAG', '(여자)아이들'],\n",
       " ['melon', 32, '사랑해요 그대를', '임영웅'],\n",
       " ['melon', 33, 'FEARLESS', 'LE SSERAFIM (르세라핌)'],\n",
       " ['melon', 34, 'STAY', 'The Kid LAROI'],\n",
       " ['melon', 35, \"That's Hilarious\", 'Charlie Puth'],\n",
       " ['melon', 36, 'SMILEY (Feat. BIBI)', 'YENA (최예나)'],\n",
       " ['melon', 37, '회전목마 (Feat. Zion.T, 원슈타인) (Prod. Slom)', 'sokodomo'],\n",
       " ['melon', 38, '언제나 사랑해', '케이시 (Kassy)'],\n",
       " ['melon', 39, '너를 생각해', '주시크 (Joosiq)'],\n",
       " ['melon', 40, 'RUN2U', 'STAYC(스테이씨)'],\n",
       " ['melon', 41, 'Seoul', '볼빨간사춘기'],\n",
       " ['melon', 42, 'Next Level', 'aespa'],\n",
       " ['melon', 43, 'Celeb', '싸이 (PSY)'],\n",
       " ['melon', 44, 'Weekend', '태연 (TAEYEON)'],\n",
       " ['melon', 45, 'Dynamite', '방탄소년단'],\n",
       " ['melon', 46, '리무진 (Feat. MINO) (Prod. GRAY)', \"BE'O (비오)\"],\n",
       " ['melon', 47, '드라마', '아이유'],\n",
       " ['melon', 48, 'Butter', '방탄소년단'],\n",
       " ['melon', 49, '아무래도 난', '주시크 (Joosiq)'],\n",
       " ['melon', 50, 'strawberry moon', '아이유'],\n",
       " ['melon', 51, 'Step Back', 'GOT the beat'],\n",
       " ['melon', 52, '너의 모든 순간', '성시경'],\n",
       " ['melon', 53, 'Permission to Dance', '방탄소년단'],\n",
       " ['melon', 54, '내가 아니라도', '주호'],\n",
       " ['melon', 55, '호랑수월가', '탑현'],\n",
       " ['melon', 56, '내 손을 잡아', '아이유'],\n",
       " ['melon', 57, 'OHAYO MY NIGHT', '디핵 (D-Hack)'],\n",
       " ['melon', 58, '존재만으로', '원슈타인'],\n",
       " ['melon', 59, '라일락', '아이유'],\n",
       " ['melon', 60, 'Counting Stars (Feat. Beenzino)', \"BE'O (비오)\"],\n",
       " ['melon', 61, 'With you', '지민'],\n",
       " ['melon', 62, '눈이 오잖아(Feat.헤이즈)', '이무진'],\n",
       " ['melon', 63, '바라만 본다', 'MSG워너비(M.O.M)'],\n",
       " ['melon', 64, 'Savage', 'aespa'],\n",
       " ['melon', 65, '스물다섯, 스물하나', '자우림'],\n",
       " ['melon', 66, 'Celebrity', '아이유'],\n",
       " ['melon', 67, 'Bad Habits', 'Ed Sheeran'],\n",
       " ['melon', 68, '사랑인걸', '한동근'],\n",
       " ['melon', 69, '봄날', '방탄소년단'],\n",
       " ['melon', 70, '밤하늘의 별을(2020)', '경서'],\n",
       " ['melon', 71, '사이렌 Remix (Feat. UNEDUCATED KID, Paul Blanco)', '호미들'],\n",
       " ['melon', 72, '문득', \"BE'O (비오)\"],\n",
       " ['melon', 73, '찰나가 영원이 될 때 (The Eternal Moment)', '마크툽 (MAKTUB)'],\n",
       " ['melon', 74, '고백', '멜로망스'],\n",
       " ['melon', 75, '너, 너 (N번째 연애 X 휘인 (Whee In))', '휘인 (Whee In)'],\n",
       " ['melon', 76, '모든 날, 모든 순간 (Every day, Every Moment)', '폴킴'],\n",
       " ['melon', 77, 'My Universe', 'Coldplay'],\n",
       " ['melon', 78, 'Blueming', '아이유'],\n",
       " ['melon', 79, 'Good Boy Gone Bad', '투모로우바이투게더'],\n",
       " ['melon', 80, 'abcdefu', 'GAYLE'],\n",
       " ['melon', 81, 'Off My Face', 'Justin Bieber'],\n",
       " ['melon', 82, 'Real Love', '오마이걸 (OH MY GIRL)'],\n",
       " ['melon', 83, \"롤린 (Rollin')\", '브레이브걸스'],\n",
       " ['melon', 84, '헤픈 우연', '헤이즈 (Heize)'],\n",
       " ['melon', 85, 'Dun Dun Dance', '오마이걸 (OH MY GIRL)'],\n",
       " ['melon', 86, 'Dreams Come True', 'aespa'],\n",
       " ['melon',\n",
       "  87,\n",
       "  '만남은 쉽고 이별은 어려워 (Feat. Leellamarz) (Prod. TOIL)',\n",
       "  '베이식 (Basick)'],\n",
       " ['melon', 88, '어제처럼', '폴킴'],\n",
       " ['melon', 89, '감동이야 (feat. 성시경)', '싸이 (PSY)'],\n",
       " ['melon', 90, '어떻게 이별까지 사랑하겠어, 널 사랑하는 거지', 'AKMU (악뮤)'],\n",
       " ['melon', 91, '너의 번호를 누르고', '김나영'],\n",
       " ['melon', 92, '나는 트로트가 싫어요', '임창정'],\n",
       " ['melon', 93, '낙하 (with 아이유)', 'AKMU (악뮤)'],\n",
       " ['melon', 94, '서랍', '10CM'],\n",
       " ['melon', 95, '버퍼링 (Glitch Mode)', 'NCT DREAM'],\n",
       " ['melon', 96, '초대', '멜로망스'],\n",
       " ['melon', 97, 'Christmas Tree', 'V'],\n",
       " ['melon', 98, 'Starlight', '태일 (TAEIL)'],\n",
       " ['melon', 99, '초록을거머쥔우리는', '잔나비'],\n",
       " ['melon', 100, 'Darl+ing', '세븐틴']]"
      ]
     },
     "execution_count": 26,
     "metadata": {},
     "output_type": "execute_result"
    }
   ],
   "source": [
    "song_data = []\n",
    "rank = 1\n",
    "\n",
    "songs = soup.select('tbody > tr')\n",
    "\n",
    "for song in songs:\n",
    "  title = song.select('div.rank01 > span > a')[0].text\n",
    "  new_title = title.strip()\n",
    "\n",
    "  singer = song.select('div.rank02 > span > a')[0].text\n",
    "  new_singer = singer.strip()\n",
    "\n",
    "  song_data.append(['melon',rank,new_title,new_singer])\n",
    "  rank += 1\n",
    "\n",
    "song_data"
   ]
  },
  {
   "cell_type": "code",
   "execution_count": 82,
   "metadata": {},
   "outputs": [],
   "source": [
    "### 지니 사이트 100곡\n",
    "from selenium import webdriver   #사이트에 직접 요청하는것이 아닌 로컬에 이미 저장된 소스를 가지고옴\n",
    "from bs4 import BeautifulSoup as bs    #읽어온 소스를 분석하기 쉽게 정제\n",
    "import pandas as pd     #데이터 분석 모듈\n"
   ]
  },
  {
   "cell_type": "code",
   "execution_count": 83,
   "metadata": {},
   "outputs": [
    {
     "name": "stderr",
     "output_type": "stream",
     "text": [
      "C:\\Temp/ipykernel_13748/2291927569.py:1: DeprecationWarning: executable_path has been deprecated, please pass in a Service object\n",
      "  driver = webdriver.Chrome('chromedriver.exe')    #크롬 브라우저 띄우기\n"
     ]
    }
   ],
   "source": [
    "driver = webdriver.Chrome('chromedriver.exe')    #크롬 브라우저 띄우기\n",
    "driver.get('https://www.genie.co.kr/chart/top200?ditc=D&ymd=20220513&hh=20&rtm=Y&pg=1')  #사이트 연결(1~50)\n",
    "html = driver.page_source   #소스 읽어오기"
   ]
  },
  {
   "cell_type": "code",
   "execution_count": 84,
   "metadata": {},
   "outputs": [],
   "source": [
    "soup = bs(html)"
   ]
  },
  {
   "cell_type": "code",
   "execution_count": 85,
   "metadata": {},
   "outputs": [
    {
     "data": {
      "text/plain": [
       "51"
      ]
     },
     "execution_count": 85,
     "metadata": {},
     "output_type": "execute_result"
    }
   ],
   "source": [
    "len(soup.select('tr'))"
   ]
  },
  {
   "cell_type": "code",
   "execution_count": 87,
   "metadata": {},
   "outputs": [
    {
     "data": {
      "text/plain": [
       "50"
      ]
     },
     "execution_count": 87,
     "metadata": {},
     "output_type": "execute_result"
    }
   ],
   "source": [
    "len(soup.select('tr.list'))"
   ]
  },
  {
   "cell_type": "code",
   "execution_count": 89,
   "metadata": {},
   "outputs": [
    {
     "data": {
      "text/plain": [
       "<tr class=\"list\" songid=\"96664100\">\n",
       "<td class=\"check\"><input class=\"select-check\" title=\"That That (Prod. &amp; Feat. SUGA of BTS)\" type=\"checkbox\"/></td>\n",
       "<td class=\"number\">1\n",
       "                                        \n",
       "                                    <span class=\"rank\">\n",
       "<span class=\"rank\"><span class=\"rank-none\"><span class=\"hide\">유지</span></span></span>\n",
       "</span>\n",
       "</td>\n",
       "<td><a class=\"cover\" href=\"#\" onclick=\"fnViewAlbumLayer('82662688');return false;\"><span class=\"mask\"></span><img alt=\"싸다9\" onerror=\"this.src='//image.genie.co.kr/imageg/web/common/blank_68.gif';\" src=\"//image.genie.co.kr/Y/IMAGE/IMG_ALBUM/082/662/688/82662688_1651196114166_1_140x140.JPG/dims/resize/Q_80,0\"/></a></td>\n",
       "<td class=\"link\"><a class=\"btn-basic btn-info\" href=\"#\" onclick=\"fnViewSongInfo('96664100');return false;\">곡 제목 정보 페이지</a></td>\n",
       "<td class=\"info\">\n",
       "<a class=\"title ellipsis\" href=\"#\" onclick=\"fnPlaySong('96664100','1');return false;\" title=\"재생\">\n",
       "                                        \n",
       "                                            \n",
       "                                        \n",
       "                                        \n",
       "                                        \n",
       "                                        \n",
       "                                            \n",
       "                                                That That (Prod. &amp; Feat. SUGA of BTS)</a>\n",
       "<a class=\"artist ellipsis\" href=\"#\" onclick=\"fnViewArtist('14945898');return false;\">싸이 (Psy)</a>\n",
       "<div class=\"toggle-button-box\">\n",
       "<button class=\"btn artist-etc\" onclick=\"fnRelationArtistList('96664100');\" type=\"button\">외</button>\n",
       "<ul class=\"list\" id=\"RelationArtist_96664100\"></ul>\n",
       "</div>\n",
       "<i class=\"bar\">|</i>\n",
       "<a class=\"albumtitle ellipsis\" href=\"#\" onclick=\"fnViewAlbumLayer('82662688');return false;\">싸다9</a>\n",
       "</td>\n",
       "<td class=\"btns\"><a class=\"btn-basic btn-listen\" href=\"#\" onclick=\"fnPlaySong('96664100;' ,'1'); return false;\" title=\"재생\">듣기</a></td>\n",
       "<td class=\"btns\"><a class=\"btn-basic btn-add\" href=\"#\" onclick=\"fnPlaySong('96664100;' ,'3'); return false;\" title=\"추가\">재생목록에 추가</a></td>\n",
       "<td class=\"btns\"><button class=\"btn-basic btn-album\" id=\"add_my_album_96664100\" onclick=\"fnAddMyAlbumForm('#add_my_album_96664100' , '96664100' ,10, 10);return false;\" songid=\"96664100\" type=\"button\">플레이리스트에 담기</button></td>\n",
       "<td class=\"btns\"><a class=\"btn-basic btn-down\" href=\"#\" onclick=\"fnDownSong('96664100');return false;\" title=\"다운\">다운로드</a></td>\n",
       "<td class=\"btns\">\n",
       "<div class=\"toggle-button-box lyr-mv\" id=\"list-mv_96664100\">\n",
       "<a alt=\"That That (Prod. &amp; Feat. SUGA of BTS)\" class=\"btn btn-basic btn-mv\" href=\"#\" onclick=\"fnPlayMv('96664100','3'); return false;\" title=\"뮤비\">뮤직비디오 보기</a>\n",
       "</div>\n",
       "</td>\n",
       "<td class=\"more\">\n",
       "<div class=\"toggle-button-box\">\n",
       "<button class=\"btn btn-basic btn-more\" type=\"button\">더보기</button>\n",
       "<ul class=\"list\">\n",
       "<li><a class=\"item\" href=\"#\" onclick=\"shareDo('96664100');return false;\" title=\"공유\">공유하기/음악나누기</a></li>\n",
       "<li><a class=\"item\" href=\"#\" onclick=\"fnGiftSong('96664100');return false;\" title=\"선물\">선물하기</a></li>\n",
       "</ul>\n",
       "</div>\n",
       "</td>\n",
       "</tr>"
      ]
     },
     "execution_count": 89,
     "metadata": {},
     "output_type": "execute_result"
    }
   ],
   "source": [
    "songs = soup.select('tr.list')\n",
    "song = songs[0]\n",
    "song"
   ]
  },
  {
   "cell_type": "code",
   "execution_count": 90,
   "metadata": {},
   "outputs": [
    {
     "data": {
      "text/plain": [
       "11"
      ]
     },
     "execution_count": 90,
     "metadata": {},
     "output_type": "execute_result"
    }
   ],
   "source": [
    "len(song.select('a'))"
   ]
  },
  {
   "cell_type": "code",
   "execution_count": 91,
   "metadata": {},
   "outputs": [
    {
     "data": {
      "text/plain": [
       "1"
      ]
     },
     "execution_count": 91,
     "metadata": {},
     "output_type": "execute_result"
    }
   ],
   "source": [
    "len(song.select('a.title.ellipsis'))\n"
   ]
  },
  {
   "cell_type": "code",
   "execution_count": 92,
   "metadata": {},
   "outputs": [
    {
     "data": {
      "text/plain": [
       "[<a class=\"title ellipsis\" href=\"#\" onclick=\"fnPlaySong('96664100','1');return false;\" title=\"재생\">\n",
       "                                         \n",
       "                                             \n",
       "                                         \n",
       "                                         \n",
       "                                         \n",
       "                                         \n",
       "                                             \n",
       "                                                 That That (Prod. &amp; Feat. SUGA of BTS)</a>]"
      ]
     },
     "execution_count": 92,
     "metadata": {},
     "output_type": "execute_result"
    }
   ],
   "source": [
    "song.select('a.title.ellipsis')"
   ]
  },
  {
   "cell_type": "code",
   "execution_count": 97,
   "metadata": {},
   "outputs": [
    {
     "data": {
      "text/plain": [
       "'\\n                                        \\n                                            \\n                                        \\n                                        \\n                                        \\n                                        \\n                                            \\n                                                That That (Prod. & Feat. SUGA of BTS)'"
      ]
     },
     "execution_count": 97,
     "metadata": {},
     "output_type": "execute_result"
    }
   ],
   "source": [
    "song.select('a.title.ellipsis')[0].text"
   ]
  },
  {
   "cell_type": "code",
   "execution_count": 98,
   "metadata": {},
   "outputs": [
    {
     "data": {
      "text/plain": [
       "'That That (Prod. & Feat. SUGA of BTS)'"
      ]
     },
     "execution_count": 98,
     "metadata": {},
     "output_type": "execute_result"
    }
   ],
   "source": [
    "song.select('a.title.ellipsis')[0].text.strip()"
   ]
  },
  {
   "cell_type": "code",
   "execution_count": 99,
   "metadata": {},
   "outputs": [
    {
     "data": {
      "text/plain": [
       "'싸이 (Psy)'"
      ]
     },
     "execution_count": 99,
     "metadata": {},
     "output_type": "execute_result"
    }
   ],
   "source": [
    "song.select('a.artist.ellipsis')[0].text.strip()"
   ]
  },
  {
   "cell_type": "code",
   "execution_count": 106,
   "metadata": {},
   "outputs": [
    {
     "name": "stderr",
     "output_type": "stream",
     "text": [
      "C:\\Temp/ipykernel_13748/3695730507.py:4: DeprecationWarning: executable_path has been deprecated, please pass in a Service object\n",
      "  driver = webdriver.Chrome('chromedriver.exe')    #크롬 브라우저 띄우기\n"
     ]
    },
    {
     "data": {
      "text/plain": [
       "[['genie', 1, 'That That (Prod. & Feat. SUGA of BTS)', '싸이 (Psy)'],\n",
       " ['genie', 2, 'TOMBOY', '(여자)아이들'],\n",
       " ['genie', 3, 'LOVE DIVE', 'IVE (아이브)'],\n",
       " ['genie', 4, '봄여름가을겨울 (Still Life)', 'BIGBANG (빅뱅)'],\n",
       " ['genie', 5, '사랑인가 봐', '멜로망스 (MeloMance)'],\n",
       " ['genie', 6, 'Feel My Rhythm', 'Red Velvet (레드벨벳)'],\n",
       " ['genie', 7, 'LOVE me', \"BE'O (비오)\"],\n",
       " ['genie', 8, 'GANADARA (Feat. 아이유)', '박재범'],\n",
       " ['genie', 9, '사랑은 늘 도망가', '임영웅'],\n",
       " ['genie', 10, 'ZOOM', '제시'],\n",
       " ['genie', 11, '취중고백', '김민석 (멜로망스)'],\n",
       " ['genie', 12, '나의 X에게', '경서'],\n",
       " ['genie', 13, '우리들의 블루스', '임영웅'],\n",
       " ['genie', 14, 'INVU', '태연 (TAEYEON)'],\n",
       " ['genie', 15, '신호등', '이무진'],\n",
       " ['genie', 16, '듣고 싶을까', 'MSG워너비 (M.O.M)'],\n",
       " ['genie', 17, '다정히 내 이름을 부르면', '경서예지 & 전건호'],\n",
       " ['genie', 18, 'Celeb', '싸이 (Psy)'],\n",
       " ['genie', 19, 'Stay', 'The Kid LAROI & Justin Bieber'],\n",
       " ['genie', 20, '다시 만날 수 있을까', '임영웅'],\n",
       " ['genie', 21, 'MY BAG', '(여자)아이들'],\n",
       " ['genie', 22, 'ELEVEN', 'IVE (아이브)'],\n",
       " ['genie', 23, '이제 나만 믿어요', '임영웅'],\n",
       " ['genie', 24, 'FEARLESS', 'LE SSERAFIM (르세라핌)'],\n",
       " ['genie', 25, '회전목마 (Feat. Zion.T & 원슈타인) (Prod. by Slom)', 'sokodomo'],\n",
       " ['genie', 26, '정이라고 하자 (Feat. 10CM)', 'BIG Naughty (서동현)'],\n",
       " ['genie', 27, '안녕이란 말', '정승환'],\n",
       " ['genie', 28, '감동이야 (Feat. 성시경)', '싸이 (Psy)'],\n",
       " ['genie',\n",
       "  29,\n",
       "  '19금\\n                                        \\n                                        \\n                                        \\n                                            \\n                                                abcdefu',\n",
       "  'GAYLE'],\n",
       " ['genie', 30, '무지개', '임영웅'],\n",
       " ['genie', 31, 'strawberry moon', '아이유 (IU)'],\n",
       " ['genie', 32, '아버지', '임영웅'],\n",
       " ['genie', 33, '리무진 (Feat. MINO) (Prod. by GRAY)', \"BE'O (비오)\"],\n",
       " ['genie', 34, '너를 생각해', '주시크 (Joosiq)'],\n",
       " ['genie', 35, \"Stronger (What Doesn't Kill You)\", 'Kelly Clarkson'],\n",
       " ['genie', 36, '언제나 사랑해', '케이시 (Kassy)'],\n",
       " ['genie', 37, 'A bientot', '임영웅'],\n",
       " ['genie', 38, 'Next Level', 'aespa'],\n",
       " ['genie', 39, '손이 참 곱던 그대', '임영웅'],\n",
       " ['genie', 40, '사랑해 진짜', '임영웅'],\n",
       " ['genie', 41, '너의 모든 순간', '성시경'],\n",
       " ['genie', 42, 'Weekend', '태연 (TAEYEON)'],\n",
       " ['genie', 43, '연애편지', '임영웅'],\n",
       " ['genie', 44, 'Bad Habits', 'Ed Sheeran'],\n",
       " ['genie', 45, '사랑역', '임영웅'],\n",
       " ['genie', 46, '보금자리', '임영웅'],\n",
       " ['genie', 47, '흔들리는 꽃들 속에서 네 샴푸향이 느껴진거야', '장범준'],\n",
       " ['genie', 48, '스물다섯, 스물하나', '자우림'],\n",
       " ['genie', 49, 'OHAYO MY NIGHT', '디핵 (D-Hack) & PATEKO'],\n",
       " ['genie', 50, '사랑해요 그대를', '임영웅'],\n",
       " ['genie', 51, \"That's Hilarious\", 'Charlie Puth'],\n",
       " ['genie', 52, '인생찬가', '임영웅'],\n",
       " ['genie', 53, '호랑수월가', '탑현'],\n",
       " ['genie', 54, '바라만 본다', 'MSG워너비 (M.O.M)'],\n",
       " ['genie', 55, '라일락', '아이유 (IU)'],\n",
       " ['genie', 56, 'Dynamite', '방탄소년단'],\n",
       " ['genie', 57, '내 손을 잡아', '아이유 (IU)'],\n",
       " ['genie', 58, 'Counting Stars (Feat. Beenzino)', \"BE'O (비오)\"],\n",
       " ['genie', 59, 'Seoul', '볼빨간사춘기'],\n",
       " ['genie', 60, '문득', \"BE'O (비오)\"],\n",
       " ['genie', 61, 'Celebrity', '아이유 (IU)'],\n",
       " ['genie', 62, '어제처럼', '폴킴'],\n",
       " ['genie', 63, 'SMILEY (Feat. BIBI)', 'YENA (최예나)'],\n",
       " ['genie', 64, 'Butter', '방탄소년단'],\n",
       " ['genie', 65, 'Tiny Riot', 'Sam Ryder'],\n",
       " ['genie', 66, '내가 아니라도', '주호'],\n",
       " ['genie', 67, '찰나가 영원이 될 때 (The Eternal Moment)', '마크툽 (Maktub)'],\n",
       " ['genie', 68, '드라마', '아이유 (IU)'],\n",
       " ['genie', 69, 'RUN2U', 'STAYC (스테이씨)'],\n",
       " ['genie', 70, '2002', 'Anne-Marie'],\n",
       " ['genie', 71, 'Blueming', '아이유 (IU)'],\n",
       " ['genie', 72, '고백', '멜로망스 (MeloMance)'],\n",
       " ['genie', 73, 'My Universe', 'Coldplay & 방탄소년단'],\n",
       " ['genie', 74, '모든 날, 모든 순간 (Every day, Every Moment)', '폴킴'],\n",
       " ['genie', 75, '서랍', '10CM'],\n",
       " ['genie', 76, '헤픈 우연', '헤이즈 (Heize)'],\n",
       " ['genie', 77, '밤하늘의 별을 (2020)', '경서'],\n",
       " ['genie', 78, 'Permission to Dance', '방탄소년단'],\n",
       " ['genie', 79, 'Loving You Girl (Feat. Hkeem)', 'Peder Elias'],\n",
       " ['genie', 80, '낙하 (With 아이유)', 'AKMU (악뮤)'],\n",
       " ['genie', 81, '오늘도 빛나는 너에게 (To You My Light) (Feat.이라온)', '마크툽 (Maktub)'],\n",
       " ['genie', 82, '나는 트로트가 싫어요', '임창정'],\n",
       " ['genie', 83, 'Step Back', 'GOT the beat'],\n",
       " ['genie',\n",
       "  84,\n",
       "  '만남은 쉽고 이별은 어려워 (Feat. Leellamarz) (Prod. by TOIL)',\n",
       "  '베이식 (Basick)'],\n",
       " ['genie', 85, 'Savage', 'aespa'],\n",
       " ['genie', 86, '눈이 오잖아 (Feat. 헤이즈)', '이무진'],\n",
       " ['genie', 87, '사이렌 Remix (Feat. UNEDUCATED KID & Paul Blanco)', '호미들'],\n",
       " ['genie', 88, 'At My Worst', 'Pink Sweat$'],\n",
       " ['genie', 89, '밤이 깊었네 (Feat. 헤이즈)', '싸이 (Psy)'],\n",
       " ['genie', 90, 'Dun Dun Dance', '오마이걸 (OH MY GIRL)'],\n",
       " ['genie', 91, '봄 to 러브', '10CM'],\n",
       " ['genie', 92, 'With you', '지민 & 하성운'],\n",
       " ['genie', 93, 'Off My Face', 'Justin Bieber'],\n",
       " ['genie', 94, 'Because Of You', 'Ne-Yo'],\n",
       " ['genie', 95, \"롤린 (Rollin')\", '브레이브걸스 (Brave girls)'],\n",
       " ['genie', 96, '에잇 (Prod. & Feat. SUGA of BTS)', '아이유 (IU)'],\n",
       " ['genie', 97, '아무래도 난', '주시크 (Joosiq)'],\n",
       " ['genie', 98, 'Every Second', 'Mina Okabe'],\n",
       " ['genie', 99, '오래된 노래', 'Standing Egg (스탠딩 에그)'],\n",
       " ['genie', 100, '초록을거머쥔우리는', '잔나비']]"
      ]
     },
     "execution_count": 106,
     "metadata": {},
     "output_type": "execute_result"
    }
   ],
   "source": [
    "song_data = []\n",
    "rank = 1\n",
    "\n",
    "driver = webdriver.Chrome('chromedriver.exe')    #크롬 브라우저 띄우기\n",
    "driver.get('https://www.genie.co.kr/chart/top200?ditc=D&ymd=20220513&hh=20&rtm=Y&pg=1')  #사이트 연결(1~50)\n",
    "html = driver.page_source   #소스 읽어오기\n",
    "soup = bs(html)\n",
    "songs = soup.select('tr.list')\n",
    "\n",
    "for song in songs:\n",
    "    title = song.select('a.title.ellipsis')[0].text.strip()\n",
    "    singer = song.select('a.artist.ellipsis')[0].text.strip()\n",
    "    song_data.append(['genie',rank,title,singer])\n",
    "\n",
    "    rank += 1\n",
    "\n",
    "# driver = webdriver.Chrome('chromedriver.exe')    #크롬 브라우저 띄우기\n",
    "# del html\n",
    "driver.get('https://www.genie.co.kr/chart/top200?ditc=D&ymd=20220513&hh=20&rtm=Y&pg=2')  #사이트 연결(1~50)\n",
    "html = driver.page_source   #소스 읽어오기\n",
    "soup = bs(html)\n",
    "songs = soup.select('tr.list')\n",
    "\n",
    "for song in songs:\n",
    "    title = song.select('a.title.ellipsis')[0].text.strip()\n",
    "    singer = song.select('a.artist.ellipsis')[0].text.strip()\n",
    "    song_data.append(['genie',rank,title,singer])\n",
    "\n",
    "    rank += 1\n",
    "\n",
    "\n",
    "song_data    "
   ]
  },
  {
   "cell_type": "code",
   "execution_count": 107,
   "metadata": {},
   "outputs": [
    {
     "data": {
      "text/html": [
       "<div>\n",
       "<style scoped>\n",
       "    .dataframe tbody tr th:only-of-type {\n",
       "        vertical-align: middle;\n",
       "    }\n",
       "\n",
       "    .dataframe tbody tr th {\n",
       "        vertical-align: top;\n",
       "    }\n",
       "\n",
       "    .dataframe thead th {\n",
       "        text-align: right;\n",
       "    }\n",
       "</style>\n",
       "<table border=\"1\" class=\"dataframe\">\n",
       "  <thead>\n",
       "    <tr style=\"text-align: right;\">\n",
       "      <th></th>\n",
       "      <th>차트명</th>\n",
       "      <th>순위</th>\n",
       "      <th>타이틀</th>\n",
       "      <th>가수</th>\n",
       "    </tr>\n",
       "  </thead>\n",
       "  <tbody>\n",
       "    <tr>\n",
       "      <th>0</th>\n",
       "      <td>genie</td>\n",
       "      <td>1</td>\n",
       "      <td>That That (Prod. &amp; Feat. SUGA of BTS)</td>\n",
       "      <td>싸이 (Psy)</td>\n",
       "    </tr>\n",
       "    <tr>\n",
       "      <th>1</th>\n",
       "      <td>genie</td>\n",
       "      <td>2</td>\n",
       "      <td>TOMBOY</td>\n",
       "      <td>(여자)아이들</td>\n",
       "    </tr>\n",
       "    <tr>\n",
       "      <th>2</th>\n",
       "      <td>genie</td>\n",
       "      <td>3</td>\n",
       "      <td>LOVE DIVE</td>\n",
       "      <td>IVE (아이브)</td>\n",
       "    </tr>\n",
       "    <tr>\n",
       "      <th>3</th>\n",
       "      <td>genie</td>\n",
       "      <td>4</td>\n",
       "      <td>봄여름가을겨울 (Still Life)</td>\n",
       "      <td>BIGBANG (빅뱅)</td>\n",
       "    </tr>\n",
       "    <tr>\n",
       "      <th>4</th>\n",
       "      <td>genie</td>\n",
       "      <td>5</td>\n",
       "      <td>사랑인가 봐</td>\n",
       "      <td>멜로망스 (MeloMance)</td>\n",
       "    </tr>\n",
       "    <tr>\n",
       "      <th>...</th>\n",
       "      <td>...</td>\n",
       "      <td>...</td>\n",
       "      <td>...</td>\n",
       "      <td>...</td>\n",
       "    </tr>\n",
       "    <tr>\n",
       "      <th>95</th>\n",
       "      <td>genie</td>\n",
       "      <td>96</td>\n",
       "      <td>에잇 (Prod. &amp; Feat. SUGA of BTS)</td>\n",
       "      <td>아이유 (IU)</td>\n",
       "    </tr>\n",
       "    <tr>\n",
       "      <th>96</th>\n",
       "      <td>genie</td>\n",
       "      <td>97</td>\n",
       "      <td>아무래도 난</td>\n",
       "      <td>주시크 (Joosiq)</td>\n",
       "    </tr>\n",
       "    <tr>\n",
       "      <th>97</th>\n",
       "      <td>genie</td>\n",
       "      <td>98</td>\n",
       "      <td>Every Second</td>\n",
       "      <td>Mina Okabe</td>\n",
       "    </tr>\n",
       "    <tr>\n",
       "      <th>98</th>\n",
       "      <td>genie</td>\n",
       "      <td>99</td>\n",
       "      <td>오래된 노래</td>\n",
       "      <td>Standing Egg (스탠딩 에그)</td>\n",
       "    </tr>\n",
       "    <tr>\n",
       "      <th>99</th>\n",
       "      <td>genie</td>\n",
       "      <td>100</td>\n",
       "      <td>초록을거머쥔우리는</td>\n",
       "      <td>잔나비</td>\n",
       "    </tr>\n",
       "  </tbody>\n",
       "</table>\n",
       "<p>100 rows × 4 columns</p>\n",
       "</div>"
      ],
      "text/plain": [
       "      차트명   순위                                    타이틀                     가수\n",
       "0   genie    1  That That (Prod. & Feat. SUGA of BTS)               싸이 (Psy)\n",
       "1   genie    2                                 TOMBOY                (여자)아이들\n",
       "2   genie    3                              LOVE DIVE              IVE (아이브)\n",
       "3   genie    4                   봄여름가을겨울 (Still Life)           BIGBANG (빅뱅)\n",
       "4   genie    5                                 사랑인가 봐       멜로망스 (MeloMance)\n",
       "..    ...  ...                                    ...                    ...\n",
       "95  genie   96         에잇 (Prod. & Feat. SUGA of BTS)               아이유 (IU)\n",
       "96  genie   97                                 아무래도 난           주시크 (Joosiq)\n",
       "97  genie   98                           Every Second             Mina Okabe\n",
       "98  genie   99                                 오래된 노래  Standing Egg (스탠딩 에그)\n",
       "99  genie  100                              초록을거머쥔우리는                    잔나비\n",
       "\n",
       "[100 rows x 4 columns]"
      ]
     },
     "execution_count": 107,
     "metadata": {},
     "output_type": "execute_result"
    }
   ],
   "source": [
    "df = pd.DataFrame(song_data,columns = ['차트명','순위','타이틀','가수'])\n",
    "df"
   ]
  },
  {
   "cell_type": "code",
   "execution_count": null,
   "metadata": {},
   "outputs": [],
   "source": []
  },
  {
   "cell_type": "code",
   "execution_count": null,
   "metadata": {},
   "outputs": [],
   "source": []
  },
  {
   "cell_type": "code",
   "execution_count": null,
   "metadata": {},
   "outputs": [],
   "source": []
  },
  {
   "cell_type": "code",
   "execution_count": null,
   "metadata": {},
   "outputs": [],
   "source": []
  },
  {
   "cell_type": "code",
   "execution_count": null,
   "metadata": {},
   "outputs": [],
   "source": []
  },
  {
   "cell_type": "code",
   "execution_count": 109,
   "metadata": {},
   "outputs": [],
   "source": [
    "# driver = webdriver.Chrome('chromedriver.exe')    #크롬 브라우저 띄우기\n",
    "# driver.get('https://www.genie.co.kr/chart/top200?ditc=D&ymd=20220513&hh=20&rtm=Y&pg=1')  #사이트 연결\n",
    "# html1 = driver.page_source   #소스 읽어오기\n",
    "# driver.get('https://www.genie.co.kr/chart/top200?ditc=D&ymd=20220513&hh=20&rtm=Y&pg=2')  #사이트 연결\n",
    "# html51 = driver.page_source   #소스 읽어오기\n"
   ]
  },
  {
   "cell_type": "code",
   "execution_count": 80,
   "metadata": {},
   "outputs": [],
   "source": [
    "# soup = bs(html1)\n",
    "# soup51 = bs(html51)"
   ]
  },
  {
   "cell_type": "code",
   "execution_count": 73,
   "metadata": {},
   "outputs": [],
   "source": [
    "# soup1\n",
    "# soup51"
   ]
  },
  {
   "cell_type": "code",
   "execution_count": 108,
   "metadata": {},
   "outputs": [],
   "source": [
    "# song_data = []\n",
    "# rank = 1\n",
    "\n",
    "# songs = soup.select('tbody > tr')\n",
    "# # songs51 = soup51.select('tbody > tr')\n",
    "\n",
    "# for song in songs:\n",
    "#   title = song.select('td.info > a')[0].text.strip()\n",
    "# #   new_title = title.strip()\n",
    "\n",
    "#   singer = song.select('td.info > a')[1].text.strip()\n",
    "# #   new_singer = singer.strip()\n",
    "\n",
    "#   song_data.append(['genie',rank,new_title,new_singer])\n",
    "#   rank += 1\n",
    "\n",
    "# song_data"
   ]
  }
 ],
 "metadata": {
  "interpreter": {
   "hash": "0956322cca7aaaa41d064280c32159765ca4d83ed985d2ef268a5d94ca36971e"
  },
  "kernelspec": {
   "display_name": "Python 3.10.4 64-bit",
   "language": "python",
   "name": "python3"
  },
  "language_info": {
   "codemirror_mode": {
    "name": "ipython",
    "version": 3
   },
   "file_extension": ".py",
   "mimetype": "text/x-python",
   "name": "python",
   "nbconvert_exporter": "python",
   "pygments_lexer": "ipython3",
   "version": "3.10.4"
  },
  "orig_nbformat": 4
 },
 "nbformat": 4,
 "nbformat_minor": 2
}
